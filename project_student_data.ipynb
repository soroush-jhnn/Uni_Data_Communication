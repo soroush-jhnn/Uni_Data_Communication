{
 "cells": [
  {
   "cell_type": "code",
   "execution_count": 17,
   "metadata": {},
   "outputs": [
    {
     "name": "stdout",
     "output_type": "stream",
     "text": [
      "['b', 'g', 'j', 'l', 'm', 'n', 'r', 's', 'v', 'w']\n"
     ]
    }
   ],
   "source": [
    "import random as rn\n",
    "from pprint import pprint as pp\n",
    "import string\n",
    "\n",
    "STUID = 993112034 # Your Student ID\n",
    "\n",
    "\n",
    "def qdata(stuID, num=10):\n",
    "    rn.seed(stuID)\n",
    "\n",
    "    datasets = list(string.ascii_lowercase[1:24])\n",
    "    rn.shuffle(datasets)\n",
    "    return datasets[:num]\n",
    "\n",
    "\n",
    "pp(sorted(qdata(STUID)))\n"
   ]
  }
 ],
 "metadata": {
  "kernelspec": {
   "display_name": "Python 3",
   "language": "python",
   "name": "python3"
  },
  "language_info": {
   "codemirror_mode": {
    "name": "ipython",
    "version": 3
   },
   "file_extension": ".py",
   "mimetype": "text/x-python",
   "name": "python",
   "nbconvert_exporter": "python",
   "pygments_lexer": "ipython3",
   "version": "3.10.5"
  },
  "orig_nbformat": 4,
  "vscode": {
   "interpreter": {
    "hash": "cd441162cfa4fbe3f42d8dc0031d437f6b3f7c44e7fa92199c085a21942b641c"
   }
  }
 },
 "nbformat": 4,
 "nbformat_minor": 2
}
